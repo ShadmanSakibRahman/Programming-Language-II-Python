{
 "cells": [
  {
   "cell_type": "markdown",
   "metadata": {},
   "source": [
    "# CSE111 Lab Assignment 02\n",
    "## Name: Md. Shadman Sakib Rahman"
   ]
  },
  {
   "cell_type": "code",
   "execution_count": 19,
   "metadata": {},
   "outputs": [
    {
     "name": "stdout",
     "output_type": "stream",
     "text": [
      "0.5\n",
      "0\n",
      "0\n"
     ]
    }
   ],
   "source": [
    "# Problem -1\n",
    "\n",
    "\n",
    "def div_frac(numerator, denominator):\n",
    "    \"\"\"\n",
    "    Given two numbers as input, this function divide one\n",
    "    number by another and returns the the fraction part of\n",
    "    the result.\n",
    "\n",
    "    Exception: if the denominator is 0 then it returns 0.\n",
    "    \"\"\"\n",
    "    if denominator == 0:\n",
    "        return 0\n",
    "    else:\n",
    "        result = (numerator / denominator) - (numerator // denominator)\n",
    "        if result == 0.0:\n",
    "            return 0\n",
    "        else:\n",
    "            return result\n",
    "\n",
    "print(div_frac(5, 2))\n",
    "print(div_frac(5, 0))\n",
    "print(div_frac(0, 5))\n",
    "\n",
    "# print(div_frac.__doc__)   # Access Docstring\n"
   ]
  },
  {
   "cell_type": "code",
   "execution_count": 20,
   "metadata": {},
   "outputs": [
    {
     "name": "stdout",
     "output_type": "stream",
     "text": [
      "Score is 31.3. You are Obese\n",
      "Score is 20.8. You are Normal\n"
     ]
    }
   ],
   "source": [
    "# Problem -2\n",
    "\n",
    "\n",
    "def BMI_Calc(height, weight):\n",
    "    \"\"\"\n",
    "    Given height and weight as input, this function\n",
    "    calculate the BMI of a person with the following\n",
    "    formula:\n",
    "            BMI = Kg / 𝑚^2\n",
    "    Then it returns the BMI and the following comment\n",
    "    based on BMI score:\n",
    "            * < 18.5 - Underweight\n",
    "            * 18.5 - 24.9 - Normal\n",
    "            * 25 - 30 - Overweight\n",
    "            * > 30 - Obese\n",
    "    \"\"\"\n",
    "    height = height / 100  # Converting cm to meter\n",
    "    BMI = weight / height ** 2\n",
    "\n",
    "    if BMI < 18.5:\n",
    "        comment = \"Underweight\"\n",
    "    elif BMI >= 18.5 and BMI <= 24.9:\n",
    "        comment = \"Normal\"\n",
    "    elif BMI >= 25 and BMI <= 30:\n",
    "        comment = \"Overweight\"\n",
    "    elif BMI > 30:\n",
    "        comment = \"Obese\"\n",
    "\n",
    "    return f\"Score is {BMI:.1f}. You are {comment}\"\n",
    "\n",
    "\n",
    "print(BMI_Calc(175, 96))\n",
    "print(BMI_Calc(152, 48))\n",
    "\n",
    "# height = int(input())\n",
    "# weight = int(input())\n",
    "# print(BMI_Calc(height, weight))\n",
    "\n",
    "# print(BMI_Calc.__doc__)   # Access Docstring\n"
   ]
  },
  {
   "cell_type": "code",
   "execution_count": 21,
   "metadata": {},
   "outputs": [
    {
     "name": "stdout",
     "output_type": "stream",
     "text": [
      "20\n",
      "45\n",
      "Divisor cannot be 0.\n"
     ]
    }
   ],
   "source": [
    "# Problem -3\n",
    "\n",
    "\n",
    "def div_sum(min, max, div):\n",
    "    \"\"\"\n",
    "    This function takes 3 number maximum, minimum and divisor\n",
    "    as input. Then it finds all the number divisible by the\n",
    "    divisor between minimum and maximum value. Then it returns\n",
    "    the sum of these number.\n",
    "    \"\"\"\n",
    "    if div != 0:\n",
    "\n",
    "        # Without using sum()\n",
    "        # Sum = 0\n",
    "        # for num in range(min, max):\n",
    "        #    if num % div == 0:\n",
    "        #        Sum += num\n",
    "        # return Sum\n",
    "\n",
    "        return sum(num for num in range(min, max) if num % div == 0)\n",
    "\n",
    "    else:\n",
    "        return \"Divisor cannot be 0.\"\n",
    "\n",
    "\n",
    "print(div_sum(0, 10, 2))\n",
    "print(div_sum(3, 16, 3))\n",
    "print(div_sum(1, 15, 0))\n",
    "\n",
    "\n",
    "# minimum = int(input(\"Minimum: \"))\n",
    "# maximum = int(input(\"Maximum: \"))\n",
    "# divisor = int(input(\"Divisor: \"))\n",
    "# print(div_sum(minimum, maximum, divisor))\n",
    "\n",
    "# print(div_sum.__doc__)   # Access Docstring\n"
   ]
  },
  {
   "cell_type": "code",
   "execution_count": 22,
   "metadata": {},
   "outputs": [
    {
     "name": "stdout",
     "output_type": "stream",
     "text": [
      "243.6\n",
      "223.6\n"
     ]
    }
   ],
   "source": [
    "# Problem -4\n",
    "\n",
    "\n",
    "def foodpanda(food, location=\"Mohakhali\"):\n",
    "    \"\"\"\n",
    "    Given food name and location, this function calculates\n",
    "    the total price for the food order and returns the\n",
    "    total price.\n",
    "    \"\"\"\n",
    "    if location != \"Mohakhali\":\n",
    "        delivery_charge = 60\n",
    "    else:\n",
    "        delivery_charge = 40\n",
    "\n",
    "    if food == \"BBQ Chicken Chesse Burger\":\n",
    "        meal_cost = 250\n",
    "    elif food == \"Beef Burger\":\n",
    "        meal_cost = 170\n",
    "    elif food == \"Naga Drums\":\n",
    "        meal_cost = 200\n",
    "    else:\n",
    "        return \"The food is not on the Menu.\"\n",
    "\n",
    "    tax = meal_cost * (8 / 100)\n",
    "\n",
    "    Total_Price = meal_cost + delivery_charge + tax\n",
    "    return Total_Price\n",
    "\n",
    "\n",
    "print(foodpanda(\"Beef Burger\", \"Dhanmondi\"))\n",
    "print(foodpanda(\"Beef Burger\"))\n",
    "\n",
    "# food = input()\n",
    "# location = input()\n",
    "\n",
    "# if location != \"\":\n",
    "#    print(foodpanda(food, location))\n",
    "# else:\n",
    "#    print(foodpanda(food))\n",
    "\n",
    "# print(foodpanda.__doc__)   # Access Docstring\n"
   ]
  },
  {
   "cell_type": "code",
   "execution_count": 23,
   "metadata": {},
   "outputs": [
    {
     "name": "stdout",
     "output_type": "stream",
     "text": [
      "Changed: alice@sheba.xyz\n",
      "Unchanged: bob@sheba.xyz\n",
      "Incorrect E-Mail Adress!\n"
     ]
    }
   ],
   "source": [
    "# Problem -5\n",
    "\n",
    "\n",
    "def replace_domain(email, domain, old_domain=\"kaaj.com\"):\n",
    "    \"\"\"\n",
    "    This function takes email, domain and old domain\n",
    "    as 3 input. If email contains the old domain then\n",
    "    it changes it to the new domain. Then it returns the\n",
    "    email with a comment regarding wheater the email has been\n",
    "    changed or not.\n",
    "    \"\"\"\n",
    "    new_email = \"\"\n",
    "    index = -1\n",
    "    for char in range(len(email)):\n",
    "        if email[char] == \"@\":\n",
    "            index = char\n",
    "            break\n",
    "\n",
    "    if index == -1:\n",
    "        return \"Incorrect E-Mail Adress!\"\n",
    "\n",
    "    new_email = email[: index + 1]\n",
    "\n",
    "    if old_domain in email:\n",
    "        new_email += domain\n",
    "        comment = \"Changed\"\n",
    "    else:\n",
    "        new_email += domain\n",
    "        comment = \"Unchanged\"\n",
    "\n",
    "    return f\"{comment}: {new_email}\"\n",
    "\n",
    "\n",
    "print(replace_domain(\"alice@kaaj.com\", \"sheba.xyz\", \"kaaj.com\"))\n",
    "print(replace_domain(\"bob@sheba.xyz\", \"sheba.xyz\"))\n",
    "print(replace_domain(\"bobsheba.xyz\", \"sheba.xyz\"))\n",
    "\n",
    "# print(replace_domain.__doc__)   # Acess Docstring.\n"
   ]
  },
  {
   "cell_type": "code",
   "execution_count": 24,
   "metadata": {},
   "outputs": [
    {
     "name": "stdout",
     "output_type": "stream",
     "text": [
      "Vowels: e, e, o. Total number of vowels: 3\n",
      "No vowels in the name\n",
      "Vowels: A, i, e. Total number of vowels: 3\n",
      "Vowels: A, e, I, o, U. Total number of vowels: 5\n"
     ]
    }
   ],
   "source": [
    "#Problem -6\n",
    "\n",
    "\n",
    "def vowel(string):\n",
    "    '''\n",
    "    Given a string, this function search for any vowels in the given string\n",
    "    and returns the founded vowels and the vowel count as output. If no \n",
    "    vowel found, it returns \"No vowels in the name\". \n",
    "    '''\n",
    "    vowel = \"aeiouAEIOU\"\n",
    "    vowel_in, total = \"\" , 0\n",
    "\n",
    "    for char in string:\n",
    "        if char in vowel:\n",
    "            vowel_in += char + \", \"    \n",
    "            total += 1\n",
    "\n",
    "    if total == 0:\n",
    "        return \"No vowels in the name\"\n",
    "    else:\n",
    "        return f\"Vowels: {vowel_in[:-2]}. Total number of vowels: {total}\"\n",
    "\n",
    "print(vowel(\"Steve Jobs\"))\n",
    "print(vowel(\"XYZ\"))\n",
    "print(vowel(\"Anime\"))\n",
    "print(vowel(\"AeIoU\"))\n",
    "\n",
    "#print(vowel.__doc__)   # Acess Docstring.\n"
   ]
  },
  {
   "cell_type": "code",
   "execution_count": 26,
   "metadata": {},
   "outputs": [
    {
     "name": "stdout",
     "output_type": "stream",
     "text": [
      "nurses run\n",
      "Palindrome\n"
     ]
    }
   ],
   "source": [
    "# Problem -7\n",
    "\n",
    "\n",
    "def ispalindrome(word):\n",
    "    \"\"\"\n",
    "    Given a string as input, this function checks wheater\n",
    "    the string is a palindrome or not. If yes, it prints\n",
    "    \"Palindrome\" otherwise \"Not a palindrome\".\n",
    "    \"\"\"\n",
    "    string = \"\"\n",
    "    for char in word:\n",
    "        if char != \" \":\n",
    "            string += char\n",
    "\n",
    "    if string == string[::-1]:\n",
    "        print(\"Palindrome\")\n",
    "    else:\n",
    "        print(\"Not a palindrome\")\n",
    "\n",
    "\n",
    "word = input().lower()\n",
    "ispalindrome(word)\n",
    "\n",
    "# print(ispalindrome.__doc__)   # Access Docstring\n"
   ]
  },
  {
   "cell_type": "code",
   "execution_count": 27,
   "metadata": {},
   "outputs": [
    {
     "name": "stdout",
     "output_type": "stream",
     "text": [
      "11 years, 10 months and 5 days\n",
      "10 years, 11 months and 20 days\n"
     ]
    }
   ],
   "source": [
    "#Problem -8\n",
    "\n",
    "\n",
    "def day_to_year(day):\n",
    "    \"\"\"\n",
    "    Given number of days as input, this function convert and returns the\n",
    "    days into years, month and remaining days.\n",
    "    \"\"\"\n",
    "    year = day // 365\n",
    "    day = day % (year * 365)\n",
    "    month = day // 30\n",
    "    day = day % (month * 30)\n",
    "\n",
    "    return f\"{year} years, {month} months and {day} days\"\n",
    "\n",
    "\n",
    "print(day_to_year(4320))\n",
    "print(day_to_year(4000))\n",
    "\n",
    "# print(day_to_year.__doc__)   # Access Docstring\n"
   ]
  },
  {
   "cell_type": "code",
   "execution_count": 28,
   "metadata": {},
   "outputs": [
    {
     "name": "stdout",
     "output_type": "stream",
     "text": [
      "MY favourite animal is a dog. A dog has sharp teeth so that it can eat flesh very easily. Do you know my pet dog’s name? I love my pet very much.\n",
      "Please enter a valid string.\n"
     ]
    }
   ],
   "source": [
    "#Problem -9\n",
    "\n",
    "\n",
    "def capitalize(string):\n",
    "    \"\"\"\n",
    "    Given a string with incorrect caplitalization, this\n",
    "    function correctly capitalize the string and then\n",
    "    returns it.\n",
    "    \"\"\"\n",
    "    if string != \"\":\n",
    "        if string[0] >= chr(97) and string[0] <= chr(122):\n",
    "            capitalized_str = chr(ord(string[0]) - 32)\n",
    "        else:\n",
    "            capitalized_str = string[0]\n",
    "\n",
    "        for index in range(1, len(string)):\n",
    "            if (\n",
    "                string[index - 1] == \" \"\n",
    "                and string[index] == \"i\"\n",
    "                and string[index + 1] == \" \"\n",
    "            ):\n",
    "                capitalized_str += \"I\"\n",
    "\n",
    "            elif (\n",
    "                string[index - 2] == \".\"\n",
    "                or string[index - 2] == \"!\"\n",
    "                or string[index - 2] == \"?\"\n",
    "            ):\n",
    "                capitalized_str += chr(ord(string[index]) - 32)\n",
    "\n",
    "            else:\n",
    "                capitalized_str += string[index]\n",
    "\n",
    "        return capitalized_str\n",
    "\n",
    "    else:\n",
    "        return \"Please enter a valid string.\"\n",
    "\n",
    "\n",
    "print(\n",
    "    capitalize(\n",
    "        \"my favourite animal is a dog. a dog has sharp teeth so that it can eat flesh very easily. do you know my pet dog’s name? i love my pet very much.\"\n",
    "    )\n",
    ")\n",
    "\n",
    "print(capitalize(\"\"))\n",
    "\n",
    "# print(capitalize.__doc__)   # Access Docstring\n"
   ]
  }
 ],
 "metadata": {
  "interpreter": {
   "hash": "8af1761716a76b0e6c34e8ab1955f7d040ddbb92ce6f164b04e94823a5e7cc4b"
  },
  "kernelspec": {
   "display_name": "Python 3 (ipykernel)",
   "language": "python",
   "name": "python3"
  },
  "language_info": {
   "codemirror_mode": {
    "name": "ipython",
    "version": 3
   },
   "file_extension": ".py",
   "mimetype": "text/x-python",
   "name": "python",
   "nbconvert_exporter": "python",
   "pygments_lexer": "ipython3",
   "version": "3.9.2"
  }
 },
 "nbformat": 4,
 "nbformat_minor": 2
}
