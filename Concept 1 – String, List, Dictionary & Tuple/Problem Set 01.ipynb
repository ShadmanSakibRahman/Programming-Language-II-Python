{
 "cells": [
  {
   "cell_type": "markdown",
   "metadata": {},
   "source": [
    "# CSE111 Lab Assignment 01\n",
    "## Name: Md. Shadman Sakib Rahman"
   ]
  },
  {
   "cell_type": "markdown",
   "metadata": {},
   "source": [
    "## String Problems\n",
    "\n"
   ]
  },
  {
   "cell_type": "code",
   "execution_count": 10,
   "metadata": {},
   "outputs": [
    {
     "name": "stdout",
     "output_type": "stream",
     "text": [
      "BaNaNa\n",
      "banana\n"
     ]
    }
   ],
   "source": [
    "# Problem -1\n",
    "\n",
    "\n",
    "def case_converter(string):\n",
    "    \"\"\"\n",
    "    Given string as input, if string has more uppercase letters \n",
    "    than lowercase print string in all uppercase. Otherwise, does\n",
    "    the oppsite.\n",
    "    \"\"\"\n",
    "    #We can get the uppercase and lowercase letter count by this method. But using map and sum is more cleaner method.\n",
    "    #\n",
    "    #lower_case = \"\"\n",
    "    #upper_case = \"\"\n",
    "    #for char in string:\n",
    "    #    if ord(char) >= 65 and ord(char) <= 90:\n",
    "    #        upper_case += char\n",
    "    #    else:                      #Since input only contains uppercase and lowercase, checking one condition should be enough.\n",
    "    #        lower_case += char\n",
    "    #\n",
    "    #total_lower = len(lower_case)\n",
    "    #total_upper = len(upper_case)\n",
    "    \n",
    "        \n",
    "    total_lower = sum(map(str.islower, string))\n",
    "    total_upper = sum(map(str.isupper, string))\n",
    "    \n",
    "\n",
    "    if total_upper > total_lower:\n",
    "        return string.upper()\n",
    "    else:\n",
    "        return string.lower()\n",
    "\n",
    "\n",
    "user_input = input()\n",
    "result = case_converter(user_input) \n",
    "print(result)\n",
    "\n",
    "# print(case_converter.__doc__)   # Access docstring"
   ]
  },
  {
   "cell_type": "code",
   "execution_count": 8,
   "metadata": {},
   "outputs": [
    {
     "name": "stdout",
     "output_type": "stream",
     "text": [
      "jhg231j213\n",
      "MIXED\n"
     ]
    }
   ],
   "source": [
    "#Problem -2\n",
    "\n",
    "\n",
    "def char_checker(string):\n",
    "    \"\"\"\n",
    "    Check wheater a string is number, word or mixed with digits and letters.\n",
    "    \"\"\"\n",
    "    ref_str = \"0123456789\"\n",
    "    len_str = len(string)\n",
    "    count = 0\n",
    "\n",
    "    for i in string:\n",
    "        if i in ref_str:\n",
    "            count += 1\n",
    "\n",
    "    if count == 0:\n",
    "        print(\"WORD\")\n",
    "    elif count < len_str:\n",
    "        print(\"MIXED\")\n",
    "    elif count == len_str:\n",
    "        print(\"NUMBER\")\n",
    "\n",
    "\n",
    "user_input = input()\n",
    "char_checker(user_input)\n"
   ]
  },
  {
   "cell_type": "code",
   "execution_count": 9,
   "metadata": {},
   "outputs": [
    {
     "name": "stdout",
     "output_type": "stream",
     "text": [
      "baNgladEsh\n",
      "glad\n"
     ]
    }
   ],
   "source": [
    "#Problem -3\n",
    "\n",
    "\n",
    "def lower_substr(string):\n",
    "    \"\"\"\n",
    "    Given a string with two uppercase characters, prints the lowercase characters \n",
    "    between the two uppercase characters.\n",
    "    \"\"\"\n",
    "    upper_count = sum(map(str.isupper, string))\n",
    "    if upper_count == 2:\n",
    "        for i in string:\n",
    "            if i.isupper():\n",
    "                start = string.find(i)\n",
    "                new_str = string.replace(i, i.lower())\n",
    "                break\n",
    "\n",
    "        for i in new_str:\n",
    "            if i.isupper():\n",
    "                end = new_str.find(i)\n",
    "                break\n",
    "\n",
    "        var = string[start + 1 : end]\n",
    "        if var != \"\":\n",
    "            print(var)\n",
    "        else:\n",
    "            print(\"BLANK\")\n",
    "\n",
    "    else:\n",
    "        print(\"More than 2 uppercase chracters\")\n",
    "\n",
    "\n",
    "user_input = input()\n",
    "lower_substr(user_input)\n"
   ]
  },
  {
   "cell_type": "code",
   "execution_count": 43,
   "metadata": {},
   "outputs": [
    {
     "name": "stdout",
     "output_type": "stream",
     "text": [
      "The book was not too good!\n",
      "The book was not execellent!\n"
     ]
    }
   ],
   "source": [
    "#Problem -4\n",
    "\n",
    "\n",
    "def replace_word(string):\n",
    "    \"\"\"\n",
    "    Given a string, this function search for the substring \"too good\".\n",
    "    If it find that, then replaces the substring with another substring\n",
    "    \"execellent\" and returns the modified string. Otherwise, it returns \n",
    "    the original string\n",
    "    \"\"\"\n",
    "    # We can do the program like below which don't use replace method. Or, we can just use find and replace method.\n",
    "    #\n",
    "    #replaced_str = \"\"\n",
    "    #pos = -1\n",
    "    #for i in range(len(string)):\n",
    "    #    if string[i] == \"t\" and string[i + 1] == \"o\" and string[i + 2] == \"o\" and string[i + 3] == \" \" and string[i + 4] == \"g\" and string[i + 5] == \"o\" and string[i + 6] == \"o\" and string[i + 7] == \"d\":\n",
    "    #        pos = i\n",
    "    #        break\n",
    "    #\n",
    "    #\n",
    "    #if pos != -1:\n",
    "    #    replaced_str = string[:pos] + \"execellent\" + string[pos + len(\"too good\"):]\n",
    "    #    print(replaced_str)\n",
    "    #elif pos == -1:\n",
    "    #    print(string)\n",
    "        \n",
    "    pos = string.find(\"too good\")\n",
    "    if pos == -1:\n",
    "        print(string)\n",
    "    elif pos != -1:\n",
    "        new_str = string.replace(\"too good\", \"execellent\")\n",
    "        print(new_str)\n",
    "\n",
    "\n",
    "user_name = input()\n",
    "replace_word(user_name)\n",
    "\n",
    "# print(replace_word.__doc__)   # Access Docstring."
   ]
  },
  {
   "cell_type": "code",
   "execution_count": 15,
   "metadata": {},
   "outputs": [
    {
     "name": "stdout",
     "output_type": "stream",
     "text": [
      "harry, hermione\n",
      "hrrhr\n"
     ]
    }
   ],
   "source": [
    "#Problem -5\n",
    "\n",
    "\n",
    "def common_char(input_list):\n",
    "    \"\"\"\n",
    "    Given two strings, this function prints a new string with \n",
    "    the common characters of the origal two string.\n",
    "    \"\"\"\n",
    "    if len(input_list[0]) < len(input_list[1]):\n",
    "        ref_str = input_list[1]\n",
    "        str_var = input_list[0]\n",
    "    else:\n",
    "        ref_str = input_list[0]\n",
    "        str_var = input_list[1]\n",
    "\n",
    "    new_str = \"\"\n",
    "    for i in str_var:\n",
    "        if i in ref_str:\n",
    "            new_str += i\n",
    "\n",
    "    for i in ref_str:\n",
    "        if i in str_var:\n",
    "            new_str += i\n",
    "\n",
    "    if new_str == \"\":\n",
    "        print(\"Nothing in common\")\n",
    "    else:\n",
    "        print(new_str)\n",
    "\n",
    "\n",
    "user_input = input().split(\",\")\n",
    "common_char(user_input)\n",
    "\n",
    "# print(common_char.__doc__)   # Acess Docstring."
   ]
  },
  {
   "cell_type": "code",
   "execution_count": 42,
   "metadata": {},
   "outputs": [
    {
     "name": "stdout",
     "output_type": "stream",
     "text": [
      "OhMyBR@CU20\n",
      "OK\n"
     ]
    }
   ],
   "source": [
    "# Problem -6\n",
    "\n",
    "\n",
    "def is_Spec_Char(character):\n",
    "    \"\"\"\n",
    "    Given a character, this function checks wheater a character is \n",
    "    one of the four special characters.\n",
    "    \"\"\"\n",
    "    spec_char = \"_$#@\"\n",
    "    if character in spec_char:\n",
    "        return True\n",
    "    else:\n",
    "        return False\n",
    "\n",
    "\n",
    "def password_checker(password):\n",
    "    \"\"\"\n",
    "    Given a password as string, this function checks wheater the password\n",
    "    fulfills the four requirements : \n",
    "                1. At least one lowercase letter\n",
    "                2. At least one uppercase letter\n",
    "                3. At least one digit (0-9)\n",
    "                4. At least one special character (_,$,#,@)\n",
    "    If the password does not fulfill the requirements if returns one of the \n",
    "    four specific errors. Otherwise, if all the reqirments are met, it \n",
    "    returns \"OK\".\n",
    "    \"\"\"\n",
    "    lower_count = sum(map(str.islower, password))\n",
    "    upper_count = sum(map(str.isupper, password))\n",
    "    digit_count = sum(map(str.isdigit, password))\n",
    "    spec_count = sum(map(is_Spec_Char, password))\n",
    "\n",
    "    error = \"\"\n",
    "    if lower_count == 0:\n",
    "        error = \"Lowercase Chracter Missing\"\n",
    "\n",
    "    if upper_count == 0:\n",
    "        if error != \"\":\n",
    "            error += \", \"\n",
    "        error += \"Uppercase Chracter Missing\"\n",
    "\n",
    "    if digit_count == 0:\n",
    "        if error != \"\":\n",
    "            error += \", \"\n",
    "        error += \"Digit Missing\"\n",
    "\n",
    "    if spec_count == 0:\n",
    "        if error != \"\":\n",
    "            error += \", \"\n",
    "        error += \"Special Chracter Missing\"\n",
    "\n",
    "    if error == \"\":\n",
    "        print(\"OK\")\n",
    "    else:\n",
    "        print(error)\n",
    "\n",
    "        \n",
    "password = input()\n",
    "password_checker(password)\n",
    "\n",
    "# print(password_checker.__doc__)   # Acess Docstring"
   ]
  },
  {
   "cell_type": "markdown",
   "metadata": {},
   "source": [
    "## List Problems\n",
    "\n"
   ]
  },
  {
   "cell_type": "code",
   "execution_count": 16,
   "metadata": {},
   "outputs": [
    {
     "name": "stdout",
     "output_type": "stream",
     "text": [
      "10\n",
      "20\n",
      "20\n",
      "30\n",
      "10\n",
      "50\n",
      "90\n",
      "STOP\n",
      "10 - 2 times\n",
      "20 - 2 times\n",
      "30 - 1 times\n",
      "50 - 1 times\n",
      "90 - 1 times\n"
     ]
    }
   ],
   "source": [
    "#Problem -1\n",
    "\n",
    "\n",
    "def universal_list(number):\n",
    "    \"\"\"\n",
    "    Given number as string input, this function convert the string\n",
    "    into an integer and add the integer to the List named \"ref_list\".\n",
    "    \"\"\"\n",
    "    global ref_list\n",
    "    temp = [int(number)]\n",
    "    ref_list += temp\n",
    "\n",
    "\n",
    "user_input = input()\n",
    "ref_list = []\n",
    "while user_input != \"STOP\":\n",
    "    universal_list(user_input)\n",
    "    user_input = input()\n",
    "\n",
    "\n",
    "frequency = [[num, ref_list.count(num)] for num in ref_list]\n",
    "frequency = sorted(frequency, key = lambda x: x[0])   # Sorting the frequency list by the first element (number) the of the sublist\n",
    "\n",
    "sorted_frequency = []\n",
    "[sorted_frequency.append(item) for item in frequency if item not in sorted_frequency]   #Creating a list with unique items\n",
    "\n",
    "for inpt, outpt in sorted_frequency:\n",
    "    print(f\"{inpt} - {outpt} times\")\n"
   ]
  },
  {
   "cell_type": "code",
   "execution_count": 37,
   "metadata": {},
   "outputs": [
    {
     "name": "stdout",
     "output_type": "stream",
     "text": [
      "4\n",
      "1 2 3\n",
      "4 5 6\n",
      "10 11 12\n",
      "7 8 9\n",
      "33\n",
      "[10, 11, 12]\n"
     ]
    }
   ],
   "source": [
    "#Problem -2\n",
    "\n",
    "\n",
    "def sum_list(lst):\n",
    "    \"\"\"\n",
    "    Given a list as input, this function checks wheater the sum of given \n",
    "    list is maximum among the input lists.\n",
    "    \"\"\"\n",
    "    global max_sum, max_lst\n",
    "    lst_sum = sum(lst)\n",
    "    if lst_sum > max_sum:\n",
    "        max_sum = lst_sum\n",
    "        max_lst = lst\n",
    "\n",
    "\n",
    "N = int(input())\n",
    "max_sum = 0\n",
    "max_lst = []\n",
    "for i in range(N):\n",
    "    lst = [int(num) for num in input().split()]\n",
    "    sum_list(lst)\n",
    "\n",
    "print(max_sum)\n",
    "print(max_lst)\n"
   ]
  },
  {
   "cell_type": "code",
   "execution_count": 43,
   "metadata": {},
   "outputs": [
    {
     "name": "stdout",
     "output_type": "stream",
     "text": [
      "2 3 6\n",
      "3 4 5\n",
      "[6, 8, 10, 9, 12, 15, 18, 24, 30]\n"
     ]
    }
   ],
   "source": [
    "#Problem -3\n",
    "\n",
    "\n",
    "def list_multiplication(lst_1, lst_2):\n",
    "    \"\"\"\n",
    "    Given two list as input, this function returns a new list \n",
    "    containing the cross multiplication product between the given \n",
    "    two lists.\n",
    "    \"\"\"\n",
    "    return [(i * j) for i in lst_1 for j in lst_2]\n",
    "\n",
    "\n",
    "list_1 = [int(num) for num in input().split()]\n",
    "list_2 = [int(num) for num in input().split()]\n",
    "result = list_multiplication(list_1, list_2)\n",
    "print(result)\n"
   ]
  },
  {
   "cell_type": "code",
   "execution_count": 35,
   "metadata": {},
   "outputs": [
    {
     "name": "stdout",
     "output_type": "stream",
     "text": [
      "1 4 2 3\n",
      "2 1 4 6 10\n",
      "1 4 2 -1 6\n",
      "STOP\n",
      "UB Jumper\n",
      "UB Jumper\n",
      "Not UB Jumper\n"
     ]
    }
   ],
   "source": [
    "#Problem -4\n",
    "\n",
    "\n",
    "def UB_Jupmer(List):\n",
    "    \"\"\"\n",
    "    Given a list as input, this function returns True if the input \n",
    "    list is a UB Jumper or return False otherwise.\n",
    "    \"\"\"\n",
    "    ref_list = [num for num in range(1, len(List))]\n",
    "    abs_diff = []\n",
    "\n",
    "    for i in range(len(List) - 1):\n",
    "        elem = List[i] - List[i + 1]\n",
    "        elem = abs(elem)\n",
    "        abs_diff.append(elem)\n",
    "\n",
    "    if sorted(ref_list) == sorted(abs_diff):\n",
    "        return True\n",
    "    else:\n",
    "        return False\n",
    "\n",
    "\n",
    "user_input = input()\n",
    "result = []\n",
    "while user_input != \"STOP\":\n",
    "    List = [int(num) for num in user_input.split()]\n",
    "\n",
    "    if UB_Jupmer(List):\n",
    "        result.append(\"UB Jumper\")\n",
    "    else:\n",
    "        result.append(\"Not UB Jumper\")\n",
    "\n",
    "    user_input = input()\n",
    "\n",
    "for output in result:\n",
    "    print(output)\n"
   ]
  },
  {
   "cell_type": "code",
   "execution_count": 34,
   "metadata": {},
   "outputs": [
    {
     "name": "stdout",
     "output_type": "stream",
     "text": [
      "Bracu1234\n",
      "acruB1324\n"
     ]
    }
   ],
   "source": [
    "#Problem -5\n",
    "\n",
    "\n",
    "def str_sort(str):\n",
    "    \"\"\"\n",
    "    Given string as input, this function print a sorted version of \n",
    "    that string. The sorting is done in the following manner:\n",
    "          1. All sorted lowercase letters are ahead of uppercase letters.\n",
    "          2. All sorted uppercase letters are ahead of digits.\n",
    "          3. All sorted odd digits are ahead of sorted even digits.\n",
    "    \"\"\"\n",
    "    low_str, up_str, num_odd, num_even = \"\", \"\", \"\", \"\"\n",
    "    for char in str:\n",
    "        if char.islower():\n",
    "            low_str += char\n",
    "        if char.isupper():\n",
    "            up_str += char\n",
    "        if char.isdigit():\n",
    "            if char in [\"1\", \"3\", \"5\", \"7\", \"9\"]:\n",
    "                num_odd += char\n",
    "            else:\n",
    "                num_even += char\n",
    "\n",
    "    sorted_char = sorted(low_str)\n",
    "    low_str = \"\".join(sorted_char)\n",
    "\n",
    "    sorted_char = sorted(up_str)\n",
    "    up_str = \"\".join(sorted_char)\n",
    "\n",
    "    sorted_char = sorted(num_odd)\n",
    "    num_odd = \"\".join(sorted_char)\n",
    "\n",
    "    sorted_char = sorted(num_even)\n",
    "    num_even = \"\".join(sorted_char)\n",
    "\n",
    "    sorted_str = low_str + up_str + num_odd + num_even\n",
    "    print(sorted_str)\n",
    "\n",
    "\n",
    "unsorted = input()\n",
    "str_sort(unsorted)"
   ]
  },
  {
   "cell_type": "code",
   "execution_count": 33,
   "metadata": {},
   "outputs": [
    {
     "name": "stdout",
     "output_type": "stream",
     "text": [
      "5 2\n",
      "0 4 5 1 0\n",
      "1\n"
     ]
    }
   ],
   "source": [
    "#Problem -6\n",
    "\n",
    "\n",
    "member_count, times = tuple(int(num) for num in input().split())\n",
    "joined_data = [int(i) for i in input().split()]\n",
    "\n",
    "while len(joined_data) != member_count:\n",
    "    print(\n",
    "        \"Member count and member participation data doesn't match. Please enter member participation data again.\"\n",
    "    )\n",
    "    joined_data = [int(i) for i in input().split()]\n",
    "\n",
    "approved = [int(i) for i in joined_data if (i + times <= 5)]\n",
    "\n",
    "appr = len(approved)\n",
    "\n",
    "if appr < 3:\n",
    "    print(0)\n",
    "else:\n",
    "    if appr % 3 == 0:\n",
    "        print(appr // 3)\n",
    "    elif (appr - 1) % 3 == 0:\n",
    "        print((appr - 1) // 3)\n",
    "    elif (appr - 2) % 3 == 0:\n",
    "        print((appr - 2) // 3)\n"
   ]
  },
  {
   "cell_type": "markdown",
   "metadata": {},
   "source": [
    "## Dictionary & Tuple Problems\n",
    "\n"
   ]
  },
  {
   "cell_type": "code",
   "execution_count": 32,
   "metadata": {},
   "outputs": [
    {
     "name": "stdout",
     "output_type": "stream",
     "text": [
      "a: 100, b: 100, c: 200, d: 300\n",
      "a: 300, b: 200, d: 400, e: 200\n",
      "{'a': 400, 'b': 300, 'c': 200, 'd': 700, 'e': 200}\n",
      "Values: (200, 300, 400, 700)\n"
     ]
    }
   ],
   "source": [
    "#Problem -1\n",
    "\n",
    "\n",
    "def combine_dictionaries(dict_1, dict_2):\n",
    "    \"\"\"\n",
    "    Given two dictionaries, this function returns a new dictionary\n",
    "    combining the two input dictionaries and adding the values for\n",
    "    the common key.\n",
    "    \"\"\"\n",
    "    combined_dict = {}\n",
    "\n",
    "    for key in dict_1:\n",
    "        if key in dict_2:\n",
    "            new_value = dict_1[key] + dict_2[key]\n",
    "        else:\n",
    "            new_value = dict_1[key]\n",
    "\n",
    "        combined_dict[key] = new_value\n",
    "\n",
    "    for key in dict_2:\n",
    "        if key not in combined_dict:\n",
    "            combined_dict[key] = dict_2[key]\n",
    "\n",
    "    return combined_dict\n",
    "\n",
    "\n",
    "str_input_1 = input()  # \"a: 100, b: 100, c: 200, d: 300\" #Question Example Inputs\n",
    "str_input_2 = input()  # \"a: 300, b: 200, d: 400, e: 200\" #Question Example Inputs\n",
    "\n",
    "dict_1 = dict(\n",
    "    (x.strip(), int(y.strip()))\n",
    "    for x, y in (element.split(\":\") for element in str_input_1.split(\", \"))\n",
    ")\n",
    "\n",
    "dict_2 = dict(\n",
    "    (x.strip(), int(y.strip()))\n",
    "    for x, y in (element.split(\":\") for element in str_input_2.split(\", \"))\n",
    ")\n",
    "\n",
    "result = combine_dictionaries(dict_1, dict_2)\n",
    "unique_value = tuple(sorted(set(result[value] for value in result)))   #Made set for removing all the duplicate, then sorted and made into a tuple.\n",
    "print(result)\n",
    "print(f\"Values: {unique_value}\")\n"
   ]
  },
  {
   "cell_type": "code",
   "execution_count": 31,
   "metadata": {},
   "outputs": [
    {
     "name": "stdout",
     "output_type": "stream",
     "text": [
      "10\n",
      "20\n",
      "20\n",
      "30\n",
      "10\n",
      "50\n",
      "90\n",
      "STOP\n",
      "10 - 2 times\n",
      "20 - 2 times\n",
      "30 - 1 times\n",
      "50 - 1 times\n",
      "90 - 1 times\n"
     ]
    }
   ],
   "source": [
    "#Problem -2\n",
    "\n",
    "\n",
    "def input_frequency(number):\n",
    "    \"\"\"\n",
    "    Given a number string as input, this function convert the string\n",
    "    into an integer and add the integer to the list named \"ref_list\".\n",
    "    Then it returns a dictionary with the integer as its \"key\" and\n",
    "    how many times the integer repeated itself in the \"ref_list as \n",
    "    its value.\n",
    "    \"\"\"\n",
    "    global ref_list\n",
    "    temp = [int(number)]\n",
    "    ref_list += temp\n",
    "    frequency = dict((num, ref_list.count(num)) for num in ref_list)\n",
    "    return frequency\n",
    "\n",
    "\n",
    "user_input = input()\n",
    "ref_list = []\n",
    "while user_input != \"STOP\":\n",
    "    result = input_frequency(user_input)\n",
    "    user_input = input()\n",
    "\n",
    "inpt = result.keys()\n",
    "inpt = sorted(inpt)\n",
    "\n",
    "for i in inpt:\n",
    "    print(f\"{i} - {result[i]} times\")\n"
   ]
  },
  {
   "cell_type": "code",
   "execution_count": 29,
   "metadata": {},
   "outputs": [
    {
     "name": "stdout",
     "output_type": "stream",
     "text": [
      "key1 : value1, key2 : value2, key3 : value1\n",
      "{'value1': ['key1', 'key3'], 'value2': ['key2']}\n"
     ]
    }
   ],
   "source": [
    "#Problem -3\n",
    "\n",
    "\n",
    "def invert(dictionary):\n",
    "    \"\"\"\n",
    "    Given a dictionary as input, this function returns a new dictionary\n",
    "    with the \"value\" of the first dictionary as its \"key\" and a list of \n",
    "    \"key\" from the first dictionary as its \"value\".\n",
    "    \"\"\"\n",
    "    Dict = {}\n",
    "    for item1, item2 in dictionary.items():\n",
    "        if item2 in Dict:\n",
    "            Dict[item2] = Dict[item2] + [item1]\n",
    "        else:\n",
    "            Dict[item2] = [item1]\n",
    "            \n",
    "    return Dict\n",
    "\n",
    "\n",
    "str_input = input()  # \"Key1 : value1, Key2 : value2, key3 : value1\" #Question Input Example\n",
    "\n",
    "dictionary = dict(\n",
    "    (x.strip(), y.strip())\n",
    "    for x, y in (item.split(\":\") for item in str_input.split(\", \"))\n",
    ")\n",
    "\n",
    "result = invert(dictionary)\n",
    "print(result)\n"
   ]
  },
  {
   "cell_type": "code",
   "execution_count": 5,
   "metadata": {},
   "outputs": [
    {
     "name": "stdout",
     "output_type": "stream",
     "text": [
      "evil\n",
      "live\n",
      "Those strings are anagrams.\n"
     ]
    }
   ],
   "source": [
    "#Problem -4 ### Question: what about space? anagram --> nag a ram are anagram to each other.\n",
    "            ### Question: can a word be its own anagram without chaning the order?\n",
    "\n",
    "\n",
    "def count_dict(string):\n",
    "    \"\"\"\n",
    "    Given a string, this function returns a dictionary containing\n",
    "    the characters of the string as \"key\" and how many times the \n",
    "    character repeated itself as a value.\n",
    "    \"\"\"\n",
    "    dictionary = {}\n",
    "\n",
    "    for char in string:\n",
    "        if char == \" \":\n",
    "            continue\n",
    "        dictionary[char] = dictionary.get(char, 0) + 1\n",
    "\n",
    "    return dictionary\n",
    "\n",
    "\n",
    "user_input_1 = input()\n",
    "user_input_2 = input()\n",
    "\n",
    "dict_1 = count_dict(user_input_1)\n",
    "dict_2 = count_dict(user_input_2)\n",
    "\n",
    "if user_input_1 != user_input_2:\n",
    "    if dict_1 == dict_2:\n",
    "        print(\"Those strings are anagrams.\")\n",
    "    else:\n",
    "        print(\"Those strings are not anagrams.\")\n",
    "else:\n",
    "    print(\"Those strings are not anagrams.\")"
   ]
  },
  {
   "cell_type": "code",
   "execution_count": 19,
   "metadata": {},
   "outputs": [
    {
     "name": "stdout",
     "output_type": "stream",
     "text": [
      "Hello, World!\n",
      "4433555555666110966677755531111"
     ]
    }
   ],
   "source": [
    "#Problem -5\n",
    "\n",
    "\n",
    "def key_map(string):\n",
    "    \"\"\"\n",
    "    Given a string, this function retruns the key presses needed \n",
    "    for that string to be entered on some basic cell phones.\n",
    "    \"\"\"\n",
    "    key_map = {\n",
    "        \".\": 1, \",\": 11, \"?\": 111, \"!\": 1111, \":\": 11111,\n",
    "        \"A\": 2, \"B\": 22, \"C\": 222,\n",
    "        \"D\": 3, \"E\": 33, \"F\": 333,\n",
    "        \"G\": 4, \"H\": 44, \"I\": 444,\n",
    "        \"J\": 5, \"K\": 55, \"L\": 555,\n",
    "        \"M\": 6, \"N\": 66, \"O\": 666,\n",
    "        \"P\": 7, \"Q\": 77, \"R\": 777, \"S\": 7777,\n",
    "        \"T\": 8, \"U\": 88, \"V\": 888,\n",
    "        \"W\": 9, \"X\": 99, \"Y\": 999, \"Z\": 9999,\n",
    "        \" \": 0\n",
    "    }\n",
    "    map = {2: \"ABC\", 3: \"DEF\"}\n",
    "    \n",
    "\n",
    "    return key_map.get(string, f\"(No-Key-For:{string})\")\n",
    "\n",
    "user_input = input().upper()\n",
    "for char in user_input:\n",
    "    key = key_map(char)\n",
    "    print(key, end=\"\")\n"
   ]
  }
 ],
 "metadata": {
  "interpreter": {
   "hash": "8af1761716a76b0e6c34e8ab1955f7d040ddbb92ce6f164b04e94823a5e7cc4b"
  },
  "kernelspec": {
   "display_name": "Python 3",
   "language": "python",
   "name": "python3"
  },
  "language_info": {
   "codemirror_mode": {
    "name": "ipython",
    "version": 3
   },
   "file_extension": ".py",
   "mimetype": "text/x-python",
   "name": "python",
   "nbconvert_exporter": "python",
   "pygments_lexer": "ipython3",
   "version": "3.9.5"
  }
 },
 "nbformat": 4,
 "nbformat_minor": 2
}
